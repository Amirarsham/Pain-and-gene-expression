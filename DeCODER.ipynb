{
 "cells": [
  {
   "cell_type": "code",
   "execution_count": null,
   "id": "3221f6dc-a6e7-4b26-8633-2d69263fec58",
   "metadata": {},
   "outputs": [],
   "source": [
    "import math\n",
    "\n",
    "code=int(input(\"Please enter the code recorded at the begining of the experiment: \"))\n",
    "\n",
    "n=code\n",
    "def primeFactors(n):\n",
    "    fact=[]\n",
    "    while n % 2 == 0:\n",
    "        fact.append(2)\n",
    "        n = n / 2\n",
    "    for i in range(3,int(math.sqrt(n))+1,2):\n",
    "            while n % i== 0:\n",
    "                fact.append(i)\n",
    "                n = n / i\n",
    "    if n > 2:\n",
    "        fact.append(n)\n",
    "    return(fact)\n",
    "   \n",
    "a=[11, 13, 17, 19, \"Row A\"]\n",
    "b=[23, 29, 31, 37, \"Row B\"]\n",
    "c=[41, 43, 47, 53,\"Row C\"]\n",
    "d=[59, 61, 67, 71,\"Row D\"]\n",
    "\n",
    "randomiser=[103, 107, 109, 113, 127, 131, 137, 139, 149, 151]\n",
    "\n",
    "factored=primeFactors(code)\n",
    "factored.sort()\n",
    "output=''\n",
    "\n",
    "for i in range(len(factored)):\n",
    "    if factored[i] in a:\n",
    "        output+=a[4]+\" And \"\n",
    "    if factored[i] in b:\n",
    "        output+=b[4]+\" And \"\n",
    "    if factored[i] in c:\n",
    "        output+=c[4]+\" Were The Rows With Noxious Stimuli. All The Best\"\n",
    "    if factored[i] in d:\n",
    "        output+=d[4]+\" Were The Rows With Noxious Stimuli. All The Best\"\n",
    "\n",
    "\n",
    "           \n",
    "print(output)"
   ]
  }
 ],
 "metadata": {
  "kernelspec": {
   "display_name": "Python 3 (ipykernel)",
   "language": "python",
   "name": "python3"
  },
  "language_info": {
   "codemirror_mode": {
    "name": "ipython",
    "version": 3
   },
   "file_extension": ".py",
   "mimetype": "text/x-python",
   "name": "python",
   "nbconvert_exporter": "python",
   "pygments_lexer": "ipython3",
   "version": "3.7.12"
  }
 },
 "nbformat": 4,
 "nbformat_minor": 5
}
